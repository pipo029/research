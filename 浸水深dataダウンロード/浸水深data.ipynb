{
 "cells": [
  {
   "cell_type": "code",
   "execution_count": 1,
   "metadata": {},
   "outputs": [],
   "source": [
    "import urllib.request\n",
    "import os\n",
    "import zipfile\n",
    "import pandas as pd\n",
    "from pandas import DataFrame\n",
    "import geopandas as gpd"
   ]
  },
  {
   "cell_type": "code",
   "execution_count": 5,
   "metadata": {},
   "outputs": [],
   "source": [
    "# 平成24年のデータの読み込み\n",
    "base_url = \"https://nlftp.mlit.go.jp/ksj/gml/data/A31/A31-12/A31-12_\"\n",
    "\n",
    "# ダウンロードURLを作成\n",
    "url_list = [base_url + f'{code:02}' + \"_GML.zip\" for code in range(1, 48)]"
   ]
  },
  {
   "cell_type": "code",
   "execution_count": 7,
   "metadata": {},
   "outputs": [
    {
     "name": "stdout",
     "output_type": "stream",
     "text": [
      "[]\n"
     ]
    }
   ],
   "source": [
    "disable_mesh1_list = []\n",
    "\n",
    "for i, url in enumerate(url_list):\n",
    "    # 保存ファイル名の指定\n",
    "    destfile = f\"G:/マイドライブ/akiyamalab/卒論/負担率総集編/data/flood_polygon/H24_flood_polygon_zip/flood_polygon_{i+1}.zip\"\n",
    "    \n",
    "    # ダウンロード（データがない場合はスキップ）\n",
    "    try:\n",
    "        urllib.request.urlretrieve(url, destfile)\n",
    "    except Exception as e:\n",
    "        print(f\"{url} did not work out due to {e}\")\n",
    "        disable_mesh1_list.append(url)\n",
    "        \n",
    "print(disable_mesh1_list)"
   ]
  },
  {
   "cell_type": "code",
   "execution_count": 12,
   "metadata": {},
   "outputs": [],
   "source": [
    "# zipファイルパスの取得\n",
    "zip_path = 'G:/マイドライブ/akiyamalab/卒論/負担率総集編/data/flood_polygon/H24_flood_polygon_zip'\n",
    "ziplist = [os.path.join(zip_path, f) for f in os.listdir(zip_path) if f.endswith('.zip')]\n",
    "\n",
    "# 保存ファイル名用\n",
    "extract_dir = 'G:/マイドライブ/akiyamalab/卒論/負担率総集編/data/flood_polygon/H24_flood_polygon/'\n",
    "# filename = [f for f in os.listdir(extract_dir) if f.endswith('.zip')]\n",
    "\n",
    "# zipファイルの解凍\n",
    "for i, zip_path in enumerate(ziplist):\n",
    "    # zipファイルの解凍\n",
    "    with zipfile.ZipFile(zip_path, 'r') as zip_ref:\n",
    "        zip_ref.extractall(extract_dir + f'{i+1}')"
   ]
  },
  {
   "cell_type": "code",
   "execution_count": 4,
   "metadata": {},
   "outputs": [
    {
     "name": "stdout",
     "output_type": "stream",
     "text": [
      "00 https://nlftp.mlit.go.jp/ksj/gml/data/L03-b/L03-b-16/L03-b-16_1-jgd_GML.zip\n",
      "01 https://nlftp.mlit.go.jp/ksj/gml/data/L03-b/L03-b-16/L03-b-16_2-jgd_GML.zip\n",
      "02 https://nlftp.mlit.go.jp/ksj/gml/data/L03-b/L03-b-16/L03-b-16_3-jgd_GML.zip\n",
      "03 https://nlftp.mlit.go.jp/ksj/gml/data/L03-b/L03-b-16/L03-b-16_4-jgd_GML.zip\n",
      "04 https://nlftp.mlit.go.jp/ksj/gml/data/L03-b/L03-b-16/L03-b-16_5-jgd_GML.zip\n",
      "05 https://nlftp.mlit.go.jp/ksj/gml/data/L03-b/L03-b-16/L03-b-16_6-jgd_GML.zip\n",
      "06 https://nlftp.mlit.go.jp/ksj/gml/data/L03-b/L03-b-16/L03-b-16_7-jgd_GML.zip\n",
      "07 https://nlftp.mlit.go.jp/ksj/gml/data/L03-b/L03-b-16/L03-b-16_8-jgd_GML.zip\n",
      "08 https://nlftp.mlit.go.jp/ksj/gml/data/L03-b/L03-b-16/L03-b-16_9-jgd_GML.zip\n",
      "09 https://nlftp.mlit.go.jp/ksj/gml/data/L03-b/L03-b-16/L03-b-16_10-jgd_GML.zip\n",
      "10 https://nlftp.mlit.go.jp/ksj/gml/data/L03-b/L03-b-16/L03-b-16_11-jgd_GML.zip\n",
      "11 https://nlftp.mlit.go.jp/ksj/gml/data/L03-b/L03-b-16/L03-b-16_12-jgd_GML.zip\n",
      "12 https://nlftp.mlit.go.jp/ksj/gml/data/L03-b/L03-b-16/L03-b-16_13-jgd_GML.zip\n",
      "13 https://nlftp.mlit.go.jp/ksj/gml/data/L03-b/L03-b-16/L03-b-16_14-jgd_GML.zip\n",
      "14 https://nlftp.mlit.go.jp/ksj/gml/data/L03-b/L03-b-16/L03-b-16_15-jgd_GML.zip\n",
      "15 https://nlftp.mlit.go.jp/ksj/gml/data/L03-b/L03-b-16/L03-b-16_16-jgd_GML.zip\n",
      "16 https://nlftp.mlit.go.jp/ksj/gml/data/L03-b/L03-b-16/L03-b-16_17-jgd_GML.zip\n",
      "17 https://nlftp.mlit.go.jp/ksj/gml/data/L03-b/L03-b-16/L03-b-16_18-jgd_GML.zip\n",
      "18 https://nlftp.mlit.go.jp/ksj/gml/data/L03-b/L03-b-16/L03-b-16_19-jgd_GML.zip\n",
      "19 https://nlftp.mlit.go.jp/ksj/gml/data/L03-b/L03-b-16/L03-b-16_20-jgd_GML.zip\n",
      "20 https://nlftp.mlit.go.jp/ksj/gml/data/L03-b/L03-b-16/L03-b-16_21-jgd_GML.zip\n",
      "21 https://nlftp.mlit.go.jp/ksj/gml/data/L03-b/L03-b-16/L03-b-16_22-jgd_GML.zip\n",
      "22 https://nlftp.mlit.go.jp/ksj/gml/data/L03-b/L03-b-16/L03-b-16_23-jgd_GML.zip\n",
      "23 https://nlftp.mlit.go.jp/ksj/gml/data/L03-b/L03-b-16/L03-b-16_24-jgd_GML.zip\n",
      "24 https://nlftp.mlit.go.jp/ksj/gml/data/L03-b/L03-b-16/L03-b-16_25-jgd_GML.zip\n",
      "25 https://nlftp.mlit.go.jp/ksj/gml/data/L03-b/L03-b-16/L03-b-16_26-jgd_GML.zip\n",
      "26 https://nlftp.mlit.go.jp/ksj/gml/data/L03-b/L03-b-16/L03-b-16_27-jgd_GML.zip\n",
      "27 https://nlftp.mlit.go.jp/ksj/gml/data/L03-b/L03-b-16/L03-b-16_28-jgd_GML.zip\n",
      "28 https://nlftp.mlit.go.jp/ksj/gml/data/L03-b/L03-b-16/L03-b-16_29-jgd_GML.zip\n",
      "29 https://nlftp.mlit.go.jp/ksj/gml/data/L03-b/L03-b-16/L03-b-16_30-jgd_GML.zip\n",
      "30 https://nlftp.mlit.go.jp/ksj/gml/data/L03-b/L03-b-16/L03-b-16_31-jgd_GML.zip\n",
      "31 https://nlftp.mlit.go.jp/ksj/gml/data/L03-b/L03-b-16/L03-b-16_32-jgd_GML.zip\n",
      "32 https://nlftp.mlit.go.jp/ksj/gml/data/L03-b/L03-b-16/L03-b-16_33-jgd_GML.zip\n",
      "33 https://nlftp.mlit.go.jp/ksj/gml/data/L03-b/L03-b-16/L03-b-16_34-jgd_GML.zip\n",
      "34 https://nlftp.mlit.go.jp/ksj/gml/data/L03-b/L03-b-16/L03-b-16_35-jgd_GML.zip\n",
      "35 https://nlftp.mlit.go.jp/ksj/gml/data/L03-b/L03-b-16/L03-b-16_36-jgd_GML.zip\n",
      "36 https://nlftp.mlit.go.jp/ksj/gml/data/L03-b/L03-b-16/L03-b-16_37-jgd_GML.zip\n",
      "37 https://nlftp.mlit.go.jp/ksj/gml/data/L03-b/L03-b-16/L03-b-16_38-jgd_GML.zip\n",
      "38 https://nlftp.mlit.go.jp/ksj/gml/data/L03-b/L03-b-16/L03-b-16_39-jgd_GML.zip\n",
      "39 https://nlftp.mlit.go.jp/ksj/gml/data/L03-b/L03-b-16/L03-b-16_40-jgd_GML.zip\n",
      "40 https://nlftp.mlit.go.jp/ksj/gml/data/L03-b/L03-b-16/L03-b-16_41-jgd_GML.zip\n",
      "41 https://nlftp.mlit.go.jp/ksj/gml/data/L03-b/L03-b-16/L03-b-16_42-jgd_GML.zip\n",
      "42 https://nlftp.mlit.go.jp/ksj/gml/data/L03-b/L03-b-16/L03-b-16_43-jgd_GML.zip\n",
      "43 https://nlftp.mlit.go.jp/ksj/gml/data/L03-b/L03-b-16/L03-b-16_44-jgd_GML.zip\n",
      "44 https://nlftp.mlit.go.jp/ksj/gml/data/L03-b/L03-b-16/L03-b-16_45-jgd_GML.zip\n",
      "45 https://nlftp.mlit.go.jp/ksj/gml/data/L03-b/L03-b-16/L03-b-16_46-jgd_GML.zip\n",
      "46 https://nlftp.mlit.go.jp/ksj/gml/data/L03-b/L03-b-16/L03-b-16_47-jgd_GML.zip\n"
     ]
    }
   ],
   "source": [
    "disable_mesh1_list = []\n",
    "\n",
    "for i, url in enumerate(url_list):\n",
    "    print(f'{i:02}', url)"
   ]
  }
 ],
 "metadata": {
  "kernelspec": {
   "display_name": "base",
   "language": "python",
   "name": "python3"
  },
  "language_info": {
   "codemirror_mode": {
    "name": "ipython",
    "version": 3
   },
   "file_extension": ".py",
   "mimetype": "text/x-python",
   "name": "python",
   "nbconvert_exporter": "python",
   "pygments_lexer": "ipython3",
   "version": "3.8.16"
  }
 },
 "nbformat": 4,
 "nbformat_minor": 2
}
