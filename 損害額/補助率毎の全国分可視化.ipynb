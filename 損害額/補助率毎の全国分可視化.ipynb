{
 "cells": [
  {
   "cell_type": "code",
   "execution_count": 5,
   "metadata": {},
   "outputs": [],
   "source": [
    "import pandas as pd\n",
    "import os"
   ]
  },
  {
   "cell_type": "code",
   "execution_count": 10,
   "metadata": {},
   "outputs": [],
   "source": [
    "#後に全てのdfから各行の情報を取得するためすべての市区町村のcsvをリストに取得\n",
    "# csvファイルのフルパスを作成\n",
    "root_path = \"G:/マイドライブ/akiyamalab/卒論/負担率総集編/dev/補助金\"\n",
    "csv_list = []\n",
    "for dirpath, dirnames, filenames in os.walk(root_path):\n",
    "    for filename in filenames:\n",
    "        if filename.endswith('.csv'):\n",
    "            csv_list.append(os.path.join(dirpath, filename))\n",
    "\n",
    "# csvファイルの読み込み\n",
    "municipalities = []\n",
    "for csv_path in csv_list:\n",
    "    municipalities.append(pd.read_csv(csv_path))\n",
    "    \n",
    "\n",
    "\n",
    "#全ての市区町村の各補助率の行を保存しておくためのリストを作成\n",
    "subisidy_dic = {f'{i}%': [] for i in range(10, 110, 10)}\n",
    "\n",
    "#各補助率の値をリストに追加\n",
    "for municipality in municipalities:\n",
    "    for index, (key, row_dfs) in enumerate(subisidy_dic.items()):\n",
    "        row_dfs.append(municipality.iloc[index])\n",
    "\n",
    "\n",
    "#各リストの行の情報を結合\n",
    "for key, row_dfs in subisidy_dic.items():\n",
    "    subisidy_df = pd.concat(row_dfs, axis=1).transpose().reset_index(drop=True)\n",
    "    \n",
    "    subisidy_df_path = f'G:/マイドライブ/akiyamalab/卒論/負担率総集編/dev/各補助率の全国集計/{key}.csv'\n",
    "    subisidy_df.to_csv(subisidy_df_path, index=False)"
   ]
  }
 ],
 "metadata": {
  "kernelspec": {
   "display_name": "microbase",
   "language": "python",
   "name": "python3"
  },
  "language_info": {
   "codemirror_mode": {
    "name": "ipython",
    "version": 3
   },
   "file_extension": ".py",
   "mimetype": "text/x-python",
   "name": "python",
   "nbconvert_exporter": "python",
   "pygments_lexer": "ipython3",
   "version": "3.8.16"
  }
 },
 "nbformat": 4,
 "nbformat_minor": 2
}
