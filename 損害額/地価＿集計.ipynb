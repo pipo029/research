{
 "cells": [
  {
   "cell_type": "code",
   "execution_count": 25,
   "metadata": {},
   "outputs": [],
   "source": [
    "prefectures = ['北海道',\n",
    "        '青森県',\n",
    "        '岩手県',\n",
    "        '宮城県',\n",
    "        '秋田県',\n",
    "        '山形県',\n",
    "        '福島県',\n",
    "        '茨城県',\n",
    "        '栃木県',\n",
    "        '群馬県',\n",
    "        '埼玉県',\n",
    "        '千葉県',\n",
    "        '東京都',\n",
    "        '神奈川県',\n",
    "        '新潟県',\n",
    "        '富山県',\n",
    "        '石川県',\n",
    "        '福井県',\n",
    "        '山梨県',\n",
    "        '長野県',\n",
    "        '岐阜県',\n",
    "        '静岡県',\n",
    "        '愛知県',\n",
    "        '三重県',\n",
    "        '滋賀県',\n",
    "        '京都県',\n",
    "        '大阪県',\n",
    "        '兵庫県',\n",
    "        '奈良県',\n",
    "        '和歌山県',\n",
    "        '鳥取県',\n",
    "        '島根県',\n",
    "        '岡山県',\n",
    "        '広島県',\n",
    "        '山口県',\n",
    "        '徳島県',\n",
    "        '香川県',\n",
    "        '愛媛県',\n",
    "        '高知県',\n",
    "        '福岡県',\n",
    "        '佐賀県',\n",
    "        '長崎県',\n",
    "        '熊本県',\n",
    "        '大分県',\n",
    "        '宮崎県',\n",
    "        '鹿児島県',\n",
    "        '沖縄県']"
   ]
  },
  {
   "cell_type": "code",
   "execution_count": 1,
   "metadata": {},
   "outputs": [
    {
     "name": "stderr",
     "output_type": "stream",
     "text": [
      "Error importing jpype dependencies. Fallback to subprocess.\n",
      "No module named 'jpype'\n"
     ]
    }
   ],
   "source": [
    "from tabula import read_pdf\n",
    "df = read_pdf(\"G:/マイドライブ/akiyamalab/卒論/負担率総集編/data/土地情報センター_平均価格・対前年平均変動表.pdf\", pages=\"all\")"
   ]
  },
  {
   "cell_type": "code",
   "execution_count": 39,
   "metadata": {},
   "outputs": [],
   "source": [
    "import pandas as pd\n",
    "\n",
    "for i in range(1, 58):\n",
    "    if i == 1:\n",
    "        merged_df = df[i]\n",
    "    \n",
    "    else:\n",
    "        merged_df = pd.concat([merged_df, df[i]])\n",
    "        \n",
    "# 地区名カラムの欠損値を持つ行を削除\n",
    "merged_df = merged_df.dropna(subset=['地区名'])\n",
    "\n",
    "merged_df.rename(columns={'平均価格(円/m2)':'住宅地', '対前年平均変動率(%)':'宅地見込地', 'Unnamed: 0':'商業地', 'Unnamed: 1':'工業地', 'Unnamed: 2':'全用途'}, inplace=True)\n",
    "merged_df = merged_df[['地区名', '住宅地', '宅地見込地', '商業地', '工業地', '全用途']]"
   ]
  },
  {
   "cell_type": "code",
   "execution_count": 75,
   "metadata": {},
   "outputs": [],
   "source": [
    "# 都道府県ごとにデータフレームを分割するための辞書を初期化\n",
    "df_dict = {prefecture: pd.DataFrame(columns=['地区名', '住宅地', '宅地見込地', '商業地', '工業地', '全用途']) for prefecture in prefectures}\n",
    "\n",
    "# 現在の都道府県を追跡する変数\n",
    "current_prefecture = None\n",
    "\n",
    "# データフレームを行ごとにループして、都道府県に基づいてデータを分割\n",
    "for index, row in merged_df.iterrows():\n",
    "    # 都道府県名が行に含まれているか確認\n",
    "    for prefecture in prefectures:\n",
    "        if prefecture in row['地区名']:\n",
    "            current_prefecture = prefecture\n",
    "            break\n",
    "    \n",
    "    # 現在の都道府県に行を追加\n",
    "    if current_prefecture:\n",
    "        row_df = pd.DataFrame([row.values], columns=row.index)\n",
    "        df_dict[current_prefecture] = pd.concat([df_dict[current_prefecture], row_df], ignore_index=True)\n",
    "        \n",
    "\n",
    "for index, (pref, data) in enumerate(df_dict.items()):\n",
    "    land_price_path = f'G:/マイドライブ/akiyamalab/卒論/負担率総集編/data/土地情報センター/{index+1}.csv'\n",
    "    data.to_csv(land_price_path, index=False, encoding='shift_jis')\n"
   ]
  },
  {
   "cell_type": "code",
   "execution_count": null,
   "metadata": {},
   "outputs": [],
   "source": [
    "merged_df_path = 'G:/マイドライブ/akiyamalab/卒論/負担率総集編/data/土地情報センター/全国_土地価格.csv'\n",
    "merged_df.to_csv(merged_df_path, index=False, encoding='shift_jis')"
   ]
  }
 ],
 "metadata": {
  "kernelspec": {
   "display_name": "microbase",
   "language": "python",
   "name": "python3"
  },
  "language_info": {
   "codemirror_mode": {
    "name": "ipython",
    "version": 3
   },
   "file_extension": ".py",
   "mimetype": "text/x-python",
   "name": "python",
   "nbconvert_exporter": "python",
   "pygments_lexer": "ipython3",
   "version": "3.8.16"
  }
 },
 "nbformat": 4,
 "nbformat_minor": 2
}
